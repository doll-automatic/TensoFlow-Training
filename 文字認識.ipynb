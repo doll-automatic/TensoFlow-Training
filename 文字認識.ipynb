{
  "nbformat": 4,
  "nbformat_minor": 0,
  "metadata": {
    "colab": {
      "name": "文字認識.ipynb",
      "provenance": [],
      "collapsed_sections": [],
      "toc_visible": true,
      "authorship_tag": "ABX9TyPe/57Q0DZ9cG/gzN8Rpj18",
      "include_colab_link": true
    },
    "kernelspec": {
      "name": "python3",
      "display_name": "Python 3"
    },
    "language_info": {
      "name": "python"
    }
  },
  "cells": [
    {
      "cell_type": "markdown",
      "metadata": {
        "id": "view-in-github",
        "colab_type": "text"
      },
      "source": [
        "<a href=\"https://colab.research.google.com/github/doll-automatic/TensoFlow-Training/blob/main/%E6%96%87%E5%AD%97%E8%AA%8D%E8%AD%98.ipynb\" target=\"_parent\"><img src=\"https://colab.research.google.com/assets/colab-badge.svg\" alt=\"Open In Colab\"/></a>"
      ]
    },
    {
      "cell_type": "code",
      "metadata": {
        "colab": {
          "base_uri": "https://localhost:8080/"
        },
        "id": "JUN7IR3F_A2Z",
        "outputId": "8072014e-93c0-4810-c706-353309533790"
      },
      "source": [
        "!wget http://github.com/aozorabunko/aozorabunko/raw/master/cards/000096/files/2093_ruby_28087.zip\n",
        "!unzip 2093_ruby_28087.zip"
      ],
      "execution_count": 1,
      "outputs": [
        {
          "output_type": "stream",
          "text": [
            "--2021-05-23 11:30:41--  http://github.com/aozorabunko/aozorabunko/raw/master/cards/000096/files/2093_ruby_28087.zip\n",
            "Resolving github.com (github.com)... 140.82.114.4\n",
            "Connecting to github.com (github.com)|140.82.114.4|:80... connected.\n",
            "HTTP request sent, awaiting response... 301 Moved Permanently\n",
            "Location: https://github.com/aozorabunko/aozorabunko/raw/master/cards/000096/files/2093_ruby_28087.zip [following]\n",
            "--2021-05-23 11:30:41--  https://github.com/aozorabunko/aozorabunko/raw/master/cards/000096/files/2093_ruby_28087.zip\n",
            "Connecting to github.com (github.com)|140.82.114.4|:443... connected.\n",
            "HTTP request sent, awaiting response... 302 Found\n",
            "Location: https://raw.githubusercontent.com/aozorabunko/aozorabunko/master/cards/000096/files/2093_ruby_28087.zip [following]\n",
            "--2021-05-23 11:30:42--  https://raw.githubusercontent.com/aozorabunko/aozorabunko/master/cards/000096/files/2093_ruby_28087.zip\n",
            "Resolving raw.githubusercontent.com (raw.githubusercontent.com)... 185.199.108.133, 185.199.109.133, 185.199.110.133, ...\n",
            "Connecting to raw.githubusercontent.com (raw.githubusercontent.com)|185.199.108.133|:443... connected.\n",
            "HTTP request sent, awaiting response... 200 OK\n",
            "Length: 421747 (412K) [application/zip]\n",
            "Saving to: ‘2093_ruby_28087.zip’\n",
            "\n",
            "2093_ruby_28087.zip 100%[===================>] 411.86K  --.-KB/s    in 0.04s   \n",
            "\n",
            "2021-05-23 11:30:42 (11.0 MB/s) - ‘2093_ruby_28087.zip’ saved [421747/421747]\n",
            "\n",
            "Archive:  2093_ruby_28087.zip\n",
            "Made with MacWinZipper™\n",
            "  inflating: dogura_magura.txt       \n"
          ],
          "name": "stdout"
        }
      ]
    },
    {
      "cell_type": "code",
      "metadata": {
        "colab": {
          "base_uri": "https://localhost:8080/"
        },
        "id": "hBDyAc0i_dFR",
        "outputId": "3a4c64c4-3a31-4558-caa9-bc281f23512e"
      },
      "source": [
        "!apt install nkf\n",
        "!nkf --guess dogura_magura.txt"
      ],
      "execution_count": 2,
      "outputs": [
        {
          "output_type": "stream",
          "text": [
            "Reading package lists... Done\n",
            "Building dependency tree       \n",
            "Reading state information... Done\n",
            "The following package was automatically installed and is no longer required:\n",
            "  libnvidia-common-460\n",
            "Use 'apt autoremove' to remove it.\n",
            "The following NEW packages will be installed:\n",
            "  nkf\n",
            "0 upgraded, 1 newly installed, 0 to remove and 34 not upgraded.\n",
            "Need to get 128 kB of archives.\n",
            "After this operation, 309 kB of additional disk space will be used.\n",
            "Get:1 http://archive.ubuntu.com/ubuntu bionic/universe amd64 nkf amd64 1:2.1.4-1ubuntu2 [128 kB]\n",
            "Fetched 128 kB in 1s (250 kB/s)\n",
            "Selecting previously unselected package nkf.\n",
            "(Reading database ... 160706 files and directories currently installed.)\n",
            "Preparing to unpack .../nkf_1%3a2.1.4-1ubuntu2_amd64.deb ...\n",
            "Unpacking nkf (1:2.1.4-1ubuntu2) ...\n",
            "Setting up nkf (1:2.1.4-1ubuntu2) ...\n",
            "Processing triggers for man-db (2.8.3-2ubuntu0.1) ...\n",
            "Shift_JIS (CRLF)\n"
          ],
          "name": "stdout"
        }
      ]
    },
    {
      "cell_type": "code",
      "metadata": {
        "colab": {
          "base_uri": "https://localhost:8080/"
        },
        "id": "aYhT1PG8_nBY",
        "outputId": "5243041d-3e23-4d2c-db99-146083506ac6"
      },
      "source": [
        "text_list = []\n",
        "with open('dogura_magura.txt',encoding='Shift_jis') as f:\n",
        "  text_list = f.readlines()\n",
        "text_list[0:10]"
      ],
      "execution_count": 3,
      "outputs": [
        {
          "output_type": "execute_result",
          "data": {
            "text/plain": [
              "['ドグラ・マグラ\\n',\n",
              " '夢野久作\\n',\n",
              " '\\n',\n",
              " '-------------------------------------------------------\\n',\n",
              " '【テキスト中に現れる記号について】\\n',\n",
              " '\\n',\n",
              " '《》：ルビ\\n',\n",
              " '（例）蜜蜂《みつばち》\\n',\n",
              " '\\n',\n",
              " '｜：ルビの付く文字列の始まりを特定する記号\\n']"
            ]
          },
          "metadata": {
            "tags": []
          },
          "execution_count": 3
        }
      ]
    },
    {
      "cell_type": "code",
      "metadata": {
        "colab": {
          "base_uri": "https://localhost:8080/"
        },
        "id": "okI-UU9l__n3",
        "outputId": "e681cb30-394e-43ad-c1ed-96974d2b8930"
      },
      "source": [
        "!pip install janome"
      ],
      "execution_count": 4,
      "outputs": [
        {
          "output_type": "stream",
          "text": [
            "Collecting janome\n",
            "\u001b[?25l  Downloading https://files.pythonhosted.org/packages/a8/63/98858cbead27df7536c7e300c169da0999e9704d02220dc6700b804eeff0/Janome-0.4.1-py2.py3-none-any.whl (19.7MB)\n",
            "\u001b[K     |████████████████████████████████| 19.7MB 62.2MB/s \n",
            "\u001b[?25hInstalling collected packages: janome\n",
            "Successfully installed janome-0.4.1\n"
          ],
          "name": "stdout"
        }
      ]
    },
    {
      "cell_type": "code",
      "metadata": {
        "colab": {
          "base_uri": "https://localhost:8080/"
        },
        "id": "jcMY-PMNAKsG",
        "outputId": "3f01e438-5d95-4a70-ca1b-b14627fc3abd"
      },
      "source": [
        "from janome.tokenizer import Tokenizer\n",
        "\n",
        "t = Tokenizer()\n",
        "words = []\n",
        "for text in text_list:\n",
        "  tokens = t.tokenize(text)\n",
        "  for token in tokens:\n",
        "    #print(token)                  # 分割した文字の情報を表示\n",
        "    pos = token.part_of_speech.split(',')[0]\n",
        "    if pos == '名詞':\n",
        "      words.append(token.surface)   # \n",
        "\n",
        "text = ' '.join(words)\n",
        "print(text[0:100])"
      ],
      "execution_count": 9,
      "outputs": [
        {
          "output_type": "stream",
          "text": [
            "ドグラ・マグラ 夢野 久作 ------------------------------------------------------- テキスト 中 記号 ルビ 例 蜜蜂 みつば ルビ 文字 列 \n"
          ],
          "name": "stdout"
        }
      ]
    },
    {
      "cell_type": "code",
      "metadata": {
        "id": "RakW1J3SChsS"
      },
      "source": [
        ""
      ],
      "execution_count": null,
      "outputs": []
    }
  ]
}